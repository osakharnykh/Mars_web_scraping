{
 "cells": [
  {
   "cell_type": "code",
   "execution_count": 1,
   "metadata": {
    "collapsed": true
   },
   "outputs": [],
   "source": [
    "# Dependencies\n",
    "from bs4 import BeautifulSoup\n",
    "import requests\n",
    "import pandas as pd\n",
    "\n",
    "from splinter import Browser\n",
    "from selenium import webdriver\n",
    "import os\n",
    "import time"
   ]
  },
  {
   "cell_type": "code",
   "execution_count": 2,
   "metadata": {
    "collapsed": true
   },
   "outputs": [],
   "source": [
    "#Scrape NASA Mars News\n",
    "url_news='https://mars.nasa.gov/news/?page=0&per_page=40&order=publish_date+desc%2Ccreated_at+desc&search=&category=19%2C165%2C184%2C204&blank_scope=Latest'\n",
    "\n",
    "#chromedriver = \"chromedriver\"\n",
    "#os.environ[\"webdriver.chrome.driver\"] = chromedriver\n",
    "#driver = webdriver.Chrome(chromedriver)\n",
    "#driver.get(url_news)\n",
    "#time.sleep(5)\n",
    "#html_news = driver.page_source\n",
    "\n",
    "html_news = requests.get(url_news)\n",
    "soup_news = BeautifulSoup(html_news.text, 'lxml')\n",
    "results_title = soup_news.find_all(class_='content_title')\n",
    "news_t=results_title[0].text.strip()\n",
    "results_par = soup_news.find_all(class_='rollover_description_inner')\n",
    "news_p=results_par[0].text.strip()"
   ]
  },
  {
   "cell_type": "code",
   "execution_count": null,
   "metadata": {
    "collapsed": true
   },
   "outputs": [],
   "source": [
    "#JPL Mars featured image\n",
    "url_jpl='https://www.jpl.nasa.gov/spaceimages/?search=&category=Mars'\n",
    "\n",
    "browser = Browser('chrome', headless=False)\n",
    "browser.visit(url_jpl)\n",
    "\n",
    "html_jpl = browser.html\n",
    "soup_jpl = BeautifulSoup(html_jpl, 'html.parser')\n",
    "\n",
    "images = soup_jpl.find_all(class_='button fancybox')\n",
    "\n",
    "featured_image_url='https://www.jpl.nasa.gov'+images[0]['data-fancybox-href']"
   ]
  },
  {
   "cell_type": "code",
   "execution_count": null,
   "metadata": {
    "collapsed": true
   },
   "outputs": [],
   "source": [
    "#Mars weather\n",
    "url_weather='https://twitter.com/marswxreport?lang=en'\n",
    "html_weather=requests.get(url_weather)\n",
    "soup_weather=BeautifulSoup(html_weather.text,'html.parser')\n",
    "\n",
    "results_weather = soup_weather.find_all('p', class_='TweetTextSize TweetTextSize--normal js-tweet-text tweet-text')\n",
    "mars_weather = results_weather[0].text"
   ]
  },
  {
   "cell_type": "code",
   "execution_count": 11,
   "metadata": {
    "collapsed": true
   },
   "outputs": [],
   "source": [
    "#Mars facts\n",
    "url_facts='https://space-facts.com/mars/'\n",
    "\n",
    "table_facts = pd.read_html(url_facts)\n",
    "df=table_facts[0]\n",
    "df.columns= ['title','value']\n",
    "\n",
    "html_table = df.to_html()\n",
    "#html_table"
   ]
  },
  {
   "cell_type": "code",
   "execution_count": 5,
   "metadata": {
    "collapsed": true
   },
   "outputs": [],
   "source": [
    "#Mars hemispheres\n",
    "cerberus={'title':'Cerberus Hemisphere',\n",
    "          'img_url':'https://astropedia.astrogeology.usgs.gov/download/Mars/Viking/cerberus_enhanced.tif'}\n",
    "schiaparelli={'title':'Schiaparelli Hemisphere', \n",
    "              'img_url':'http://astropedia.astrogeology.usgs.gov/download/Mars/Viking/schiaparelli_enhanced.tif'}\n",
    "syrtis_major={'title':'Syrtis Major Hemisphere',\n",
    "             'img_url':'http://astropedia.astrogeology.usgs.gov/download/Mars/Viking/syrtis_major_enhanced.tif'}\n",
    "valles_marineris={'title':'Valles Marineris Hemisphere',\n",
    "                 'img_url':'http://astropedia.astrogeology.usgs.gov/download/Mars/Viking/valles_marineris_enhanced.tif'}\n",
    "hemisphere_image_urls=[cerberus,\n",
    "                       schiaparelli,\n",
    "                       syrtis_major,\n",
    "                       valles_marineris]\n"
   ]
  },
  {
   "cell_type": "code",
   "execution_count": 15,
   "metadata": {},
   "outputs": [
    {
     "data": {
      "text/plain": [
       "'<table border=\"1\" class=\"dataframe\">\\n  <thead>\\n    <tr style=\"text-align: right;\">\\n      <th></th>\\n      <th>title</th>\\n      <th>value</th>\\n    </tr>\\n  </thead>\\n  <tbody>\\n    <tr>\\n      <th>0</th>\\n      <td>Equatorial Diameter:</td>\\n      <td>6,792 km</td>\\n    </tr>\\n    <tr>\\n      <th>1</th>\\n      <td>Polar Diameter:</td>\\n      <td>6,752 km</td>\\n    </tr>\\n    <tr>\\n      <th>2</th>\\n      <td>Mass:</td>\\n      <td>6.42 x 10^23 kg (10.7% Earth)</td>\\n    </tr>\\n    <tr>\\n      <th>3</th>\\n      <td>Moons:</td>\\n      <td>2 (Phobos &amp; Deimos)</td>\\n    </tr>\\n    <tr>\\n      <th>4</th>\\n      <td>Orbit Distance:</td>\\n      <td>227,943,824 km (1.52 AU)</td>\\n    </tr>\\n    <tr>\\n      <th>5</th>\\n      <td>Orbit Period:</td>\\n      <td>687 days (1.9 years)</td>\\n    </tr>\\n    <tr>\\n      <th>6</th>\\n      <td>Surface Temperature:</td>\\n      <td>-153 to 20 °C</td>\\n    </tr>\\n    <tr>\\n      <th>7</th>\\n      <td>First Record:</td>\\n      <td>2nd millennium BC</td>\\n    </tr>\\n    <tr>\\n      <th>8</th>\\n      <td>Recorded By:</td>\\n      <td>Egyptian astronomers</td>\\n    </tr>\\n  </tbody>\\n</table>'"
      ]
     },
     "execution_count": 15,
     "metadata": {},
     "output_type": "execute_result"
    }
   ],
   "source": [
    "html_table"
   ]
  },
  {
   "cell_type": "code",
   "execution_count": null,
   "metadata": {
    "collapsed": true
   },
   "outputs": [],
   "source": []
  }
 ],
 "metadata": {
  "kernelspec": {
   "display_name": "Python 3",
   "language": "python",
   "name": "python3"
  },
  "language_info": {
   "codemirror_mode": {
    "name": "ipython",
    "version": 3
   },
   "file_extension": ".py",
   "mimetype": "text/x-python",
   "name": "python",
   "nbconvert_exporter": "python",
   "pygments_lexer": "ipython3",
   "version": "3.6.3"
  }
 },
 "nbformat": 4,
 "nbformat_minor": 2
}
